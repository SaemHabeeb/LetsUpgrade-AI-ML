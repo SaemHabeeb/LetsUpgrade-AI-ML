{
 "cells": [
  {
   "cell_type": "markdown",
   "metadata": {},
   "source": [
    "# __Question 1 :__\n",
    ">## _Research on whether addition, subtraction, multiplication, division, floor division and modulo operations be performed on complex numbers. Based on your study, implement a Python program to demonstrate these operations._"
   ]
  },
  {
   "cell_type": "code",
   "execution_count": 18,
   "metadata": {},
   "outputs": [
    {
     "name": "stdout",
     "output_type": "stream",
     "text": [
      "SUM =  (7+7j)\n",
      "DIFFERENCE =  (-1+1j)\n",
      "PRODUCT =  25j\n",
      "QUOTIENT =  (0.96+0.28j)\n"
     ]
    }
   ],
   "source": [
    "Z = 3 + 4j\n",
    "W = 4 + 3j\n",
    "\n",
    "print('SUM = ', Z+W)\n",
    "print('DIFFERENCE = ', Z-W)\n",
    "print('PRODUCT = ', Z*W)\n",
    "print('QUOTIENT = ', Z/W)\n",
    "# print('MODULO = ', Z%W) this gives an error as 'can't mod complex numbers.'"
   ]
  },
  {
   "cell_type": "markdown",
   "metadata": {},
   "source": [
    "# __Question 2 :__\n",
    ">## _Research on range() functions and its parameters. Create a markdown cell and write in your own words what you understand about it. Implement a small program of your choice on the same._"
   ]
  },
  {
   "cell_type": "code",
   "execution_count": 19,
   "metadata": {},
   "outputs": [
    {
     "data": {
      "text/plain": [
       "[1, 2, 3, 4, 5, 6, 7, 8, 9, 10]"
      ]
     },
     "execution_count": 19,
     "metadata": {},
     "output_type": "execute_result"
    }
   ],
   "source": [
    "list(range(1,11,1))"
   ]
  },
  {
   "cell_type": "code",
   "execution_count": 20,
   "metadata": {},
   "outputs": [
    {
     "data": {
      "text/plain": [
       "[1, 3, 5, 7, 9]"
      ]
     },
     "execution_count": 20,
     "metadata": {},
     "output_type": "execute_result"
    }
   ],
   "source": [
    "list(range(1,11,2))"
   ]
  },
  {
   "cell_type": "markdown",
   "metadata": {},
   "source": [
    "# __range()__\n",
    ">This function is used to create an Arithmetically progressing series.\n",
    "\n",
    ">its syntax is :::: range(first term, limit, common difference)"
   ]
  },
  {
   "cell_type": "code",
   "execution_count": 21,
   "metadata": {},
   "outputs": [
    {
     "name": "stdout",
     "output_type": "stream",
     "text": [
      "1\n",
      "27\n",
      "125\n",
      "343\n",
      "729\n"
     ]
    }
   ],
   "source": [
    "# program to produce cube of odd numbers from 1 to 10 \n",
    "for i in range(1, 10, 2):\n",
    "    print(i**3)"
   ]
  },
  {
   "cell_type": "markdown",
   "metadata": {},
   "source": [
    "# __Question 3:__\n",
    ">## _Consider two numbers. Perform their subtraction and if the result of subtraction is greater than 25, print their multiplication result else print their division result._"
   ]
  },
  {
   "cell_type": "code",
   "execution_count": 23,
   "metadata": {},
   "outputs": [
    {
     "name": "stdout",
     "output_type": "stream",
     "text": [
      "0.5\n"
     ]
    }
   ],
   "source": [
    "a = 23\n",
    "b = 46\n",
    "c = abs(a - b)\n",
    "if c > 25:\n",
    "    print(a*b)\n",
    "else:\n",
    "    print(a/b)"
   ]
  },
  {
   "cell_type": "markdown",
   "metadata": {},
   "source": [
    "# _Question 4:_\n",
    ">## _Consider a list of 10 elements of integer values. If the number in the list is divisible by 2, print the result as \"square of that number minus 2\"._"
   ]
  },
  {
   "cell_type": "code",
   "execution_count": 24,
   "metadata": {},
   "outputs": [
    {
     "name": "stdout",
     "output_type": "stream",
     "text": [
      "2\n",
      "1154\n",
      "440894\n",
      "142\n",
      "4094\n"
     ]
    }
   ],
   "source": [
    "lst = [1,2,34,523,655,77,664,12,23,64]\n",
    "for i in lst:\n",
    "    if i%2==0:\n",
    "        print(i**2-2)"
   ]
  },
  {
   "cell_type": "markdown",
   "metadata": {},
   "source": [
    "# __Question 5:__\n",
    ">## _Consider a list of 10 elements. Print all the elements in the list which are greater than 7 when that number is divided 2._"
   ]
  },
  {
   "cell_type": "code",
   "execution_count": 25,
   "metadata": {},
   "outputs": [
    {
     "name": "stdout",
     "output_type": "stream",
     "text": [
      "34\n",
      "523\n",
      "655\n",
      "77\n",
      "664\n",
      "23\n",
      "64\n"
     ]
    }
   ],
   "source": [
    "lst1 = [1,2,34,523,655,77,664,12,23,64]\n",
    "for i in lst1:\n",
    "    if i / 2 > 7:\n",
    "        print(i)"
   ]
  }
 ],
 "metadata": {
  "kernelspec": {
   "display_name": "Python 3",
   "language": "python",
   "name": "python3"
  },
  "language_info": {
   "codemirror_mode": {
    "name": "ipython",
    "version": 3
   },
   "file_extension": ".py",
   "mimetype": "text/x-python",
   "name": "python",
   "nbconvert_exporter": "python",
   "pygments_lexer": "ipython3",
   "version": "3.7.6"
  }
 },
 "nbformat": 4,
 "nbformat_minor": 4
}
