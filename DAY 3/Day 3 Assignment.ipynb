{
 "cells": [
  {
   "cell_type": "markdown",
   "metadata": {},
   "source": [
    "# __Question 1 :__\n",
    "## _Write a program to subtract two complex numbers in Python._"
   ]
  },
  {
   "cell_type": "code",
   "execution_count": 1,
   "metadata": {},
   "outputs": [
    {
     "name": "stdout",
     "output_type": "stream",
     "text": [
      "enter first complex number : 8+9J\n",
      "enter second complex number : 9+7J\n",
      "B - A =  (1-2j)\n"
     ]
    }
   ],
   "source": [
    "A = complex(input('enter first complex number : '))\n",
    "B = complex(input('enter second complex number : '))\n",
    "C = B - A\n",
    "\n",
    "print('B - A = ', C)"
   ]
  },
  {
   "cell_type": "markdown",
   "metadata": {},
   "source": [
    "# __Question 2 :__\n",
    "## _Write a program to find the fourth root of a number._\n"
   ]
  },
  {
   "cell_type": "code",
   "execution_count": 2,
   "metadata": {},
   "outputs": [
    {
     "name": "stdout",
     "output_type": "stream",
     "text": [
      "enter a number : 54\n",
      "2.7108060108295344  is the fourth root of  54\n"
     ]
    }
   ],
   "source": [
    "import math\n",
    "A = int(input('enter a number : '))\n",
    "B = math.sqrt(math.sqrt(A))\n",
    "print(B, ' is the fourth root of ',A)"
   ]
  },
  {
   "cell_type": "markdown",
   "metadata": {},
   "source": [
    "# __Question 3:__\n",
    "## _Write a program to swap two numbers in Python with the help of a temporary variable._"
   ]
  },
  {
   "cell_type": "code",
   "execution_count": 3,
   "metadata": {},
   "outputs": [
    {
     "name": "stdout",
     "output_type": "stream",
     "text": [
      "enter first variable's value : 45\n",
      "enter second variable's value : 52\n",
      "After swapping the first variable =  52\n",
      "After swapping the second variable =  45\n"
     ]
    }
   ],
   "source": [
    "X = int(input(\"enter first variable's value : \"))\n",
    "Y = int(input(\"enter second variable's value : \"))\n",
    "R = X  #R is temporary variable\n",
    "X = Y\n",
    "Y = R\n",
    "print('After swapping the first variable = ', X)\n",
    "print('After swapping the second variable = ', Y)\n"
   ]
  },
  {
   "cell_type": "markdown",
   "metadata": {},
   "source": [
    "# __Question 4:__\n",
    "## _Write a program to swap two numbers in Python without using a temporary variable._"
   ]
  },
  {
   "cell_type": "code",
   "execution_count": 4,
   "metadata": {},
   "outputs": [
    {
     "name": "stdout",
     "output_type": "stream",
     "text": [
      "enter first variable's value : 47\n",
      "enter second variable's value : 52\n",
      "After swapping the first variable =  52\n",
      "After swapping the second variable =  47\n"
     ]
    }
   ],
   "source": [
    "X = int(input(\"enter first variable's value : \"))\n",
    "Y = int(input(\"enter second variable's value : \"))\n",
    "X, Y = Y, X\n",
    "print(\"After swapping the first variable = \", X)\n",
    "print('After swapping the second variable = ', Y)"
   ]
  },
  {
   "cell_type": "markdown",
   "metadata": {},
   "source": [
    "# __Question 5:__\n",
    "## _Write a program to convert fahrenheit to kelvin and celsius both._"
   ]
  },
  {
   "cell_type": "code",
   "execution_count": 5,
   "metadata": {},
   "outputs": [
    {
     "name": "stdout",
     "output_type": "stream",
     "text": [
      "Enter Temperature In Farenheit : 75\n",
      "75.0 Fahrenheit In Kelvin is  297.0388888888889\n",
      "75.0 Fahrenheit In Celsius is  23.88888888888889\n"
     ]
    }
   ],
   "source": [
    "F = float(input('Enter Temperature In Farenheit : '))\n",
    "C = (F - 32) * 5/9\n",
    "K = C + 273.15\n",
    "print(F, 'Fahrenheit In Kelvin is ', K)\n",
    "print(F, 'Fahrenheit In Celsius is ', C)"
   ]
  },
  {
   "cell_type": "markdown",
   "metadata": {},
   "source": [
    "# __Question 6:__\n",
    "## _Write a program to demonstrate all the available data types in Python. Hint: Use type() function._"
   ]
  },
  {
   "cell_type": "code",
   "execution_count": 6,
   "metadata": {},
   "outputs": [
    {
     "name": "stdout",
     "output_type": "stream",
     "text": [
      "12  IS A/AN  <class 'int'>\n",
      "12.5 IS A/AN  <class 'float'>\n",
      "(12+23j)  IS A/AN  <class 'complex'>\n",
      "{'Saem': 'a name'}  IS A/AN  <class 'dict'>\n",
      "{1, 2, 3, 4, 'SAEM', 'DARSHAN'}  IS A/AN  <class 'set'>\n",
      "True  IS A/AN  <class 'bool'>\n",
      "ABC  IS A/AN  <class 'str'>\n",
      "['SAEM', 1, 2, 3, 4, 5]  IS A/AN  <class 'list'>\n",
      "('WAS', 'IS', 'ARE', 'WERE')  IS A/AN  <class 'tuple'>\n"
     ]
    }
   ],
   "source": [
    "A = 12\n",
    "print(A,' IS A/AN ',type(A))\n",
    "B = 12.5\n",
    "print( B,'IS A/AN ',type(B))\n",
    "C = 12 + 23j\n",
    "print(C, ' IS A/AN ',type(C))\n",
    "D = {'Saem':'a name'}\n",
    "print(D, ' IS A/AN ',type(D))\n",
    "E = {'SAEM', 1, 1, 2, 2, 3, 4, 2, 'DARSHAN'}\n",
    "print(E, ' IS A/AN ',type(E))\n",
    "F = True\n",
    "print(F, ' IS A/AN ',type(F))\n",
    "G = 'ABC'\n",
    "print(G, ' IS A/AN ',type(G))\n",
    "H = ['SAEM', 1, 2, 3, 4, 5]\n",
    "print(H, ' IS A/AN ',type(H))\n",
    "I = ('WAS', 'IS', 'ARE', 'WERE')\n",
    "print(I, ' IS A/AN ',type(I))\n"
   ]
  },
  {
   "cell_type": "markdown",
   "metadata": {},
   "source": [
    "# __Question 7:__\n",
    "## _Create a Markdown cell in jupyter and list the steps discussed in the session by Dr. Darshan Ingle sir to create Github profile and upload Githubs Assignment link._"
   ]
  },
  {
   "attachments": {},
   "cell_type": "markdown",
   "metadata": {},
   "source": [
    "# FOLLOWING STEPS SHOULD BE USED TO SUBMIT THE ASSIGNMENT\n",
    "1. Create a Github public repo and name it LetsUpgrade AI/ML\n",
    "2. Upload the files/solution in the repo in day wise manner.\n",
    "3. Copy the URL of the Folder of that day and paste in the Assignment Submission Form (Google Form)\n",
    "4. Make sure you are filling correct details in the Assignment Submission Form.\n",
    "5. All the drop-downs will be available till the week end only. i.e Previous weeks drop-down will disappear on each Sunday 11:59 PM\n",
    "6. You have to submit all the assignment given during the weekdays by respective SUNDAY 11:59 PM IST.\n"
   ]
  },
  {
   "cell_type": "code",
   "execution_count": null,
   "metadata": {},
   "outputs": [],
   "source": []
  }
 ],
 "metadata": {
  "kernelspec": {
   "display_name": "Python 3",
   "language": "python",
   "name": "python3"
  },
  "language_info": {
   "codemirror_mode": {
    "name": "ipython",
    "version": 3
   },
   "file_extension": ".py",
   "mimetype": "text/x-python",
   "name": "python",
   "nbconvert_exporter": "python",
   "pygments_lexer": "ipython3",
   "version": "3.7.6"
  }
 },
 "nbformat": 4,
 "nbformat_minor": 4
}
