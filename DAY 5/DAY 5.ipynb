{
 "cells": [
  {
   "cell_type": "markdown",
   "metadata": {},
   "source": [
    "# __Question 1 :__\n",
    ">## _Write a Python program to find the first 20 non-even prime natural numbers._"
   ]
  },
  {
   "cell_type": "code",
   "execution_count": 5,
   "metadata": {},
   "outputs": [
    {
     "name": "stdout",
     "output_type": "stream",
     "text": [
      "3 5 7 11 13 17 19 "
     ]
    }
   ],
   "source": [
    "for i in range(3, 21):\n",
    "    for d in range (2, i):\n",
    "        if i % d == 0:\n",
    "            break\n",
    "    else:\n",
    "        print(i, end = ' ')\n",
    "            "
   ]
  },
  {
   "cell_type": "markdown",
   "metadata": {},
   "source": [
    "# __Question 2 :__\n",
    ">## _Write a Python program to implement 15 functions of string._"
   ]
  },
  {
   "cell_type": "code",
   "execution_count": 6,
   "metadata": {},
   "outputs": [
    {
     "name": "stdout",
     "output_type": "stream",
     "text": [
      "qwerty azerty\n",
      "QWERTY AZERTY\n",
      "1\n",
      "2\n",
      "False\n",
      "False\n",
      "4\n",
      "sqwErty azertyaqwErty azertyeqwErty azertym\n",
      "False\n",
      "True\n",
      "qwErty qzerty\n",
      "False\n",
      "qwErty azerty                               \n",
      "False\n",
      "True\n"
     ]
    }
   ],
   "source": [
    "a = 'qwErty azerty'\n",
    "print(a.lower())\n",
    "print(a.upper())\n",
    "print(a.count('w'))\n",
    "print(a.find('E'))\n",
    "print(a.islower())\n",
    "print(a.isnumeric())\n",
    "print(a.index('t'))\n",
    "print(a.join('saem'))\n",
    "print(a.isdigit())\n",
    "print(a.isprintable())\n",
    "print(a.replace('a','q'))\n",
    "print(a.isdecimal())\n",
    "print(a.ljust(44))\n",
    "print(a.isalpha())\n",
    "print(a.endswith('y'))"
   ]
  },
  {
   "cell_type": "markdown",
   "metadata": {},
   "source": [
    "# __Question 3:__\n",
    ">## _Write a Python program to check if the given string is a Palindrome or Anagram or None of them.Display the message accordingly to the user._"
   ]
  },
  {
   "cell_type": "code",
   "execution_count": 7,
   "metadata": {},
   "outputs": [
    {
     "name": "stdout",
     "output_type": "stream",
     "text": [
      "enter a string : RADAR\n",
      "radar   is a palindrome\n",
      "let us chek for an Anagram\n",
      "Enter another string : DARAR\n",
      "darar   is an anagram of   radar\n"
     ]
    }
   ],
   "source": [
    "x = 0\n",
    "b = input(\"enter a string : \").lower()\n",
    "if b== b[::-1]:\n",
    "    print(b, \"  is a palindrome\")\n",
    "    x += 1\n",
    "else:\n",
    "    print(' is not a palindrome')\n",
    "print(\"let us chek for an Anagram\")\n",
    "c = input(\"Enter another string : \").lower()\n",
    "cl = list(c)\n",
    "s = 0\n",
    "if len(b) == len(c):\n",
    "    for i in range(len(b)):\n",
    "        if b.find(cl.pop()) != -1:\n",
    "                s += 1\n",
    "    if s == len(b):\n",
    "        print(c, \"  is an anagram of  \", b)\n",
    "        x += 1\n",
    "    elif s!=len(b):\n",
    "        print(c,\"  is not an anagram of  \", b)\n",
    "else:\n",
    "    print(c,\"  is not an anagram of  \", b)\n",
    "if x == 0:\n",
    "    print(b, \"  is neither a Palindrome nor  \", c, \"  is an Anagram of  \", b)"
   ]
  },
  {
   "cell_type": "markdown",
   "metadata": {},
   "source": [
    "# __Question 4:__\n",
    ">## _Write a Python's user defined function that removes all the additional characters from the string and converts it finally to lower case using built-in lower(). eg: If the string is \"Dr. Darshan Ingle @AI-ML Trainer\", then the output be \"drdarshaningleaimltrainer\"._"
   ]
  },
  {
   "cell_type": "code",
   "execution_count": 47,
   "metadata": {},
   "outputs": [],
   "source": [
    "def remove_SpecialChar(S):\n",
    "    s = S.lower()\n",
    "    Sl = list(s)\n",
    "    for i in Sl:\n",
    "        if i == '@':\n",
    "            Sl.remove(\"@\")\n",
    "        elif i == \"!\":\n",
    "            Sl.remove(\"!\")\n",
    "        elif i == \"#\":\n",
    "            Sl.remove(\"#\")\n",
    "        elif i == \"$\":\n",
    "            Sl.remove(\"$\")\n",
    "        elif i == \"%\":\n",
    "            Sl.remove(\"%\")\n",
    "        elif i == \"^\":\n",
    "            Sl.remove(\"^\")\n",
    "        elif i == \"&\":\n",
    "            Sl.remove(\"&\")\n",
    "        elif i == \"*\":\n",
    "            Sl.remove(\"*\")\n",
    "        elif i == \" \":\n",
    "            Sl.remove(\" \")\n",
    "        elif i == \"-\":\n",
    "            Sl.remove(\"-\")\n",
    "        elif i == \"(\":\n",
    "            Sl.remove(\")\")\n",
    "        elif i == \"=\":\n",
    "            Sl.remove(\"=\")\n",
    "        elif i == \"+\":\n",
    "            Sl.remove(\"+\")\n",
    "        elif i == \"_\":\n",
    "            Sl.remove(\"_\")\n",
    "        elif i ==\"`\" :\n",
    "            Sl.remove(\"`\")\n",
    "        elif i == \"~\":\n",
    "            Sl.remove(\"~\")\n",
    "        elif i == \"[\":\n",
    "            Sl.remove(\"[\")\n",
    "        elif i == \"]\":\n",
    "            Sl.remove(\"]\")\n",
    "        elif i == \"{\":\n",
    "            Sl.remove(\"{\")\n",
    "        elif i == \"}\":\n",
    "            Sl.remove(\"}\")\n",
    "        elif i == \"|\":\n",
    "            Sl.remove(\"|\")\n",
    "        elif i == ':':\n",
    "            Sl.remove(\":\")\n",
    "        elif i == '\"':\n",
    "            Sl.remove('\"')\n",
    "        elif i == \"'\":\n",
    "            Sl.remove(\"'\")\n",
    "        elif i == ';':\n",
    "            Sl.remove(\";\")\n",
    "        elif i == ',':\n",
    "            Sl.remove(\",\")\n",
    "        elif i == '.':\n",
    "            Sl.remove(\".\")\n",
    "        elif i == '<':\n",
    "            Sl.remove(\"<\")\n",
    "        elif i == '>':\n",
    "            Sl.remove(\">\")\n",
    "        elif i == '/':\n",
    "            Sl.remove(\"/\")\n",
    "        elif i == '':\n",
    "            Sl.remove(\"\")\n",
    "        else:\n",
    "            print(i, end=\"\")"
   ]
  },
  {
   "cell_type": "code",
   "execution_count": 48,
   "metadata": {},
   "outputs": [
    {
     "name": "stdout",
     "output_type": "stream",
     "text": [
      "drdarshanngleailrainer"
     ]
    }
   ],
   "source": [
    "remove_SpecialChar('Dr. Darshan Ingle @AI-ML Trainer')"
   ]
  }
 ],
 "metadata": {
  "kernelspec": {
   "display_name": "Python 3",
   "language": "python",
   "name": "python3"
  },
  "language_info": {
   "codemirror_mode": {
    "name": "ipython",
    "version": 3
   },
   "file_extension": ".py",
   "mimetype": "text/x-python",
   "name": "python",
   "nbconvert_exporter": "python",
   "pygments_lexer": "ipython3",
   "version": "3.7.6"
  }
 },
 "nbformat": 4,
 "nbformat_minor": 4
}
